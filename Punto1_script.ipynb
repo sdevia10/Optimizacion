{
 "cells": [
  {
   "cell_type": "markdown",
   "metadata": {},
   "source": [
    "## Tarea 1 Opti repitis"
   ]
  },
  {
   "cell_type": "code",
   "execution_count": 1,
   "metadata": {},
   "outputs": [],
   "source": [
    "import numpy as np\n",
    "from scipy.optimize import minimize, Bounds"
   ]
  },
  {
   "cell_type": "code",
   "execution_count": 2,
   "metadata": {},
   "outputs": [],
   "source": [
    "## Funcion a optimizar\n",
    "\n",
    "def costo(X):\n",
    "    \n",
    "    C = np.array([[99999,0.3,99999,99999,1.2,1.2,1.4],[99999,99999,0.2,0.15,99999,99999,99999],[99999,99999,99999,99999,0.25,0.2,0.15],[99999,99999,99999,99999,0.22,0.2,0.15],[99999,99999,99999,99999,99999,99999,99999],[99999,99999,99999,99999,99999,99999,99999],[99999,99999,99999,99999,99999,99999,99999]])\n",
    "    C= C.reshape(49)\n",
    "    return np.sum(np.multiply(X,C))    \n",
    "    "
   ]
  },
  {
   "cell_type": "code",
   "execution_count": 3,
   "metadata": {},
   "outputs": [
    {
     "name": "stdout",
     "output_type": "stream",
     "text": [
      "[[1.0e+04 3.0e-01 1.0e+04 1.0e+04 1.2e+00 1.2e+00 1.4e+00]\n",
      " [1.0e+04 1.0e+04 2.0e-01 1.5e-01 1.0e+04 1.0e+04 1.0e+04]\n",
      " [1.0e+04 1.0e+04 1.0e+04 1.0e+04 2.5e-01 2.0e-01 1.5e-01]\n",
      " [1.0e+04 1.0e+04 1.0e+04 1.0e+04 2.2e-01 2.0e-01 1.5e-01]\n",
      " [1.0e+04 1.0e+04 1.0e+04 1.0e+04 1.0e+04 1.0e+04 1.0e+04]\n",
      " [1.0e+04 1.0e+04 1.0e+04 1.0e+04 1.0e+04 1.0e+04 1.0e+04]\n",
      " [1.0e+04 1.0e+04 1.0e+04 1.0e+04 1.0e+04 1.0e+04 1.0e+04]]\n"
     ]
    }
   ],
   "source": [
    "C = np.array([[10000,0.3,10000,10000,1.2,1.2,1.4],[10000,10000,0.2,0.15,10000,10000,10000],[10000,10000,10000,10000,0.25,0.2,0.15],[10000,10000,10000,10000,0.22,0.2,0.15],[10000,10000,10000,10000,10000,10000,10000],[10000,10000,10000,10000,10000,10000,10000],[10000,10000,10000,10000,10000,10000,10000]])\n",
    "print(C)"
   ]
  },
  {
   "cell_type": "code",
   "execution_count": 4,
   "metadata": {},
   "outputs": [],
   "source": [
    "A = np.array([[1,2,3],[4,5,6],[7,8,9]])\n",
    "B = np.array([[1,2,3],[2,2,2],[1,1,1]])"
   ]
  },
  {
   "cell_type": "code",
   "execution_count": 5,
   "metadata": {},
   "outputs": [
    {
     "data": {
      "text/plain": [
       "68"
      ]
     },
     "execution_count": 5,
     "metadata": {},
     "output_type": "execute_result"
    }
   ],
   "source": [
    "np.sum(np.multiply(A,B)) #Con multiply, no importa si las matrices estan definidas como matrix o array se hace la mult punto a punto"
   ]
  },
  {
   "cell_type": "code",
   "execution_count": 36,
   "metadata": {},
   "outputs": [],
   "source": [
    "Ar = A.reshape(9)\n",
    "Arr = Ar.reshape(3,3)"
   ]
  },
  {
   "cell_type": "code",
   "execution_count": 37,
   "metadata": {},
   "outputs": [
    {
     "name": "stdout",
     "output_type": "stream",
     "text": [
      "[[1 2 3]\n",
      " [4 5 6]\n",
      " [7 8 9]]\n",
      "[1 2 3 4 5 6 7 8 9]\n",
      "[[1 2 3]\n",
      " [4 5 6]\n",
      " [7 8 9]]\n"
     ]
    }
   ],
   "source": [
    "print(A)\n",
    "print(Ar)\n",
    "print(Arr)"
   ]
  },
  {
   "cell_type": "code",
   "execution_count": 8,
   "metadata": {},
   "outputs": [],
   "source": [
    "X0 = np.random.rand(7,7)\n",
    "X0=X0.reshape(49)"
   ]
  },
  {
   "cell_type": "code",
   "execution_count": 9,
   "metadata": {
    "scrolled": false
   },
   "outputs": [
    {
     "data": {
      "text/plain": [
       "array([0.48437357, 0.73745591, 0.01301705, 0.84776014, 0.02535363,\n",
       "       0.85136753, 0.26579423, 0.003153  , 0.30495421, 0.10022565,\n",
       "       0.27991116, 0.28373303, 0.50966187, 0.98470312, 0.40668143,\n",
       "       0.41431943, 0.545942  , 0.66209131, 0.75592051, 0.93048494,\n",
       "       0.58482484, 0.41029202, 0.1875211 , 0.76770037, 0.26277142,\n",
       "       0.69109339, 0.92948567, 0.26649894, 0.90074859, 0.22331569,\n",
       "       0.11655974, 0.40453059, 0.8119781 , 0.08110861, 0.62310043,\n",
       "       0.57291835, 0.27878483, 0.38105351, 0.29332865, 0.53860017,\n",
       "       0.16406414, 0.31747982, 0.62746296, 0.66335235, 0.0887815 ,\n",
       "       0.91768728, 0.0410513 , 0.9625129 , 0.40398525])"
      ]
     },
     "execution_count": 9,
     "metadata": {},
     "output_type": "execute_result"
    }
   ],
   "source": [
    "X0"
   ]
  },
  {
   "cell_type": "code",
   "execution_count": 10,
   "metadata": {},
   "outputs": [
    {
     "data": {
      "text/plain": [
       "0.403985248012501"
      ]
     },
     "execution_count": 10,
     "metadata": {},
     "output_type": "execute_result"
    }
   ],
   "source": [
    "X0[48]"
   ]
  },
  {
   "cell_type": "code",
   "execution_count": 11,
   "metadata": {},
   "outputs": [],
   "source": [
    "def constraint1(X):\n",
    "    return 0.7*20e6 - X[1] #Desiguladad\n",
    "\n",
    "def constraint2(X):\n",
    "    return 10e6 - X[10] #Desigualdad\n",
    "\n",
    "def constraint3(X):\n",
    "    suma = 20e6 #Valor de la constante a igualar\n",
    "    for j in range(7):\n",
    "        suma = suma - X[j] #Igualdad   \n",
    "    return suma\n",
    "\n",
    "def constraint4(X):\n",
    "    suma = 4e6 #Valor de la constante a igualar\n",
    "    for i in range(7):\n",
    "        suma = suma - X[4+(7*i)]\n",
    "    return suma\n",
    "\n",
    "def constraint5(X):\n",
    "    suma = 12e6 #Valor de la constante a igualar\n",
    "    for i in range(7):\n",
    "        suma = suma - X[5+(7*i)]\n",
    "    return suma\n",
    "\n",
    "def constraint6(X):\n",
    "    suma = 4e6 #Valor de la constante a igualar\n",
    "    for i in range(7):\n",
    "        suma = suma - X[6+(7*i)]\n",
    "    return suma"
   ]
  },
  {
   "cell_type": "code",
   "execution_count": 12,
   "metadata": {
    "scrolled": true
   },
   "outputs": [],
   "source": [
    "#Definicion de limites sueprior e inferior\n",
    "\n",
    "b = [(0,20000000)]*49\n",
    "\n",
    "bnds = (b)\n",
    "\n",
    "#print(bnds)\n",
    "#bnds = Bounds(bnds)\n",
    "con1 = {'type': 'ineq','fun': constraint1}\n",
    "con2 = {'type': 'ineq','fun': constraint2}\n",
    "con3 = {'type': 'eq','fun': constraint3}\n",
    "con4 = {'type': 'eq','fun': constraint4}\n",
    "con5 = {'type': 'eq','fun': constraint5}\n",
    "con6 = {'type': 'eq','fun': constraint6}\n",
    "\n",
    "cons = [con1,con2,con3,con4,con5,con6]"
   ]
  },
  {
   "cell_type": "code",
   "execution_count": 13,
   "metadata": {},
   "outputs": [],
   "source": [
    "#(b)"
   ]
  },
  {
   "cell_type": "code",
   "execution_count": 14,
   "metadata": {},
   "outputs": [],
   "source": [
    "sol = minimize(costo,X0,method='SLSQP',bounds=bnds,constraints=cons)"
   ]
  },
  {
   "cell_type": "code",
   "execution_count": 15,
   "metadata": {},
   "outputs": [
    {
     "data": {
      "text/plain": [
       "21439341.640291262"
      ]
     },
     "execution_count": 15,
     "metadata": {},
     "output_type": "execute_result"
    }
   ],
   "source": [
    "sol.fun"
   ]
  },
  {
   "cell_type": "code",
   "execution_count": null,
   "metadata": {},
   "outputs": [],
   "source": [
    "costo(sol.x)"
   ]
  },
  {
   "cell_type": "code",
   "execution_count": 16,
   "metadata": {},
   "outputs": [
    {
     "data": {
      "text/plain": [
       "array([0.00000000e+00, 4.80083943e+06, 0.00000000e+00, 0.00000000e+00,\n",
       "       3.99932761e+06, 7.20056958e+06, 3.99932762e+06, 0.00000000e+00,\n",
       "       0.00000000e+00, 3.40552442e-10, 1.23481242e-01, 0.00000000e+00,\n",
       "       0.00000000e+00, 0.00000000e+00, 0.00000000e+00, 0.00000000e+00,\n",
       "       0.00000000e+00, 0.00000000e+00, 3.39530510e+02, 2.39973266e+06,\n",
       "       3.39279421e+02, 0.00000000e+00, 0.00000000e+00, 0.00000000e+00,\n",
       "       0.00000000e+00, 3.39530386e+02, 2.39973265e+06, 3.39778780e+02,\n",
       "       0.00000000e+00, 0.00000000e+00, 0.00000000e+00, 0.00000000e+00,\n",
       "       0.00000000e+00, 0.00000000e+00, 0.00000000e+00, 0.00000000e+00,\n",
       "       0.00000000e+00, 0.00000000e+00, 0.00000000e+00, 0.00000000e+00,\n",
       "       0.00000000e+00, 0.00000000e+00, 0.00000000e+00, 0.00000000e+00,\n",
       "       0.00000000e+00, 0.00000000e+00, 0.00000000e+00, 0.00000000e+00,\n",
       "       0.00000000e+00])"
      ]
     },
     "execution_count": 16,
     "metadata": {},
     "output_type": "execute_result"
    }
   ],
   "source": [
    "sol.x"
   ]
  },
  {
   "cell_type": "code",
   "execution_count": 17,
   "metadata": {},
   "outputs": [],
   "source": [
    "solucion = sol.x.reshape(7,7)"
   ]
  },
  {
   "cell_type": "code",
   "execution_count": 38,
   "metadata": {},
   "outputs": [
    {
     "data": {
      "text/plain": [
       "array([[0.00000000e+00, 4.80083943e+06, 0.00000000e+00, 0.00000000e+00,\n",
       "        3.99932761e+06, 7.20056958e+06, 3.99932762e+06],\n",
       "       [0.00000000e+00, 0.00000000e+00, 3.40552442e-10, 1.23481242e-01,\n",
       "        0.00000000e+00, 0.00000000e+00, 0.00000000e+00],\n",
       "       [0.00000000e+00, 0.00000000e+00, 0.00000000e+00, 0.00000000e+00,\n",
       "        3.39530510e+02, 2.39973266e+06, 3.39279421e+02],\n",
       "       [0.00000000e+00, 0.00000000e+00, 0.00000000e+00, 0.00000000e+00,\n",
       "        3.39530386e+02, 2.39973265e+06, 3.39778780e+02],\n",
       "       [0.00000000e+00, 0.00000000e+00, 0.00000000e+00, 0.00000000e+00,\n",
       "        0.00000000e+00, 0.00000000e+00, 0.00000000e+00],\n",
       "       [0.00000000e+00, 0.00000000e+00, 0.00000000e+00, 0.00000000e+00,\n",
       "        0.00000000e+00, 0.00000000e+00, 0.00000000e+00],\n",
       "       [0.00000000e+00, 0.00000000e+00, 0.00000000e+00, 0.00000000e+00,\n",
       "        0.00000000e+00, 0.00000000e+00, 0.00000000e+00]])"
      ]
     },
     "execution_count": 38,
     "metadata": {},
     "output_type": "execute_result"
    }
   ],
   "source": [
    "solucion"
   ]
  },
  {
   "cell_type": "code",
   "execution_count": 39,
   "metadata": {},
   "outputs": [
    {
     "name": "stdout",
     "output_type": "stream",
     "text": [
      "4000006.6753403638\n"
     ]
    }
   ],
   "source": [
    "total=0\n",
    "for i in range(7):\n",
    "    total = total + sol.x[6+(7*i)]\n",
    "    \n",
    "print(total)"
   ]
  },
  {
   "cell_type": "code",
   "execution_count": 72,
   "metadata": {},
   "outputs": [
    {
     "data": {
      "text/plain": [
       "4000006.6753403638"
      ]
     },
     "execution_count": 72,
     "metadata": {},
     "output_type": "execute_result"
    }
   ],
   "source": [
    "np.sum(solucion[:,6])"
   ]
  },
  {
   "cell_type": "code",
   "execution_count": 55,
   "metadata": {},
   "outputs": [
    {
     "data": {
      "text/plain": [
       "(7, 7)"
      ]
     },
     "execution_count": 55,
     "metadata": {},
     "output_type": "execute_result"
    }
   ],
   "source": [
    "solucion.shape"
   ]
  },
  {
   "cell_type": "code",
   "execution_count": null,
   "metadata": {},
   "outputs": [],
   "source": []
  }
 ],
 "metadata": {
  "kernelspec": {
   "display_name": "Python 3",
   "language": "python",
   "name": "python3"
  },
  "language_info": {
   "codemirror_mode": {
    "name": "ipython",
    "version": 3
   },
   "file_extension": ".py",
   "mimetype": "text/x-python",
   "name": "python",
   "nbconvert_exporter": "python",
   "pygments_lexer": "ipython3",
   "version": "3.7.3"
  }
 },
 "nbformat": 4,
 "nbformat_minor": 2
}
